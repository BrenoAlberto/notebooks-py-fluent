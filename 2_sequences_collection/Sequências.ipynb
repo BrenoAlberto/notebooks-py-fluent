{
 "cells": [
  {
   "cell_type": "markdown",
   "id": "advised-quality",
   "metadata": {},
   "source": [
    "# Uma coleção de sequências\n",
    "## Visão geral das sequências embutidas"
   ]
  },
  {
   "cell_type": "markdown",
   "id": "sharing-environment",
   "metadata": {},
   "source": [
    "Sequências container\n",
    "<ul> list, tuple e collections.deque podem armazenar itens de tipos diferentes </ul>\n",
    "\n",
    "Sequências simples\n",
    "<ul> str, bytes, memoryview e array.array armazenam itens de um só tipo. </ul>"
   ]
  },
  {
   "cell_type": "markdown",
   "id": "divine-eclipse",
   "metadata": {},
   "source": [
    "## List comprehension e expressões geradoras"
   ]
  },
  {
   "cell_type": "markdown",
   "id": "tracked-script",
   "metadata": {},
   "source": [
    "Uma maneira rápida de criar uma sequência é usar uma **list comprehension (se o alvo for uma list)** ou uma **expressão geradora (para todos os demais tipos de sequência)**. Se você não estiver usando essas formas sintáticas em seu cotidiano, aposto que stará perdendo oportuniaddes de escrever um código que é, ao mesmo tempo, mais legível e, geralmente, mais rápido."
   ]
  },
  {
   "cell_type": "markdown",
   "id": "featured-pitch",
   "metadata": {},
   "source": [
    "### List comprehensions e legibilidade"
   ]
  },
  {
   "cell_type": "markdown",
   "id": "therapeutic-disorder",
   "metadata": {},
   "source": [
    "Eis um teste: qual exemplo você acha mais fácil de ler, o primeiro ou o segundo ?"
   ]
  },
  {
   "cell_type": "markdown",
   "id": "overhead-claim",
   "metadata": {},
   "source": [
    "Cria uma lista de códigos Unicode(codepoints) a partir de uma string"
   ]
  },
  {
   "cell_type": "code",
   "execution_count": 1,
   "id": "surprising-courage",
   "metadata": {},
   "outputs": [
    {
     "data": {
      "text/plain": [
       "[36, 37, 38, 42, 64, 33]"
      ]
     },
     "execution_count": 1,
     "metadata": {},
     "output_type": "execute_result"
    }
   ],
   "source": [
    "symbols = '$%&*@!'\n",
    "codes = []\n",
    "for symbol in symbols:\n",
    "    codes.append(ord(symbol))\n",
    "codes"
   ]
  },
  {
   "cell_type": "code",
   "execution_count": 2,
   "id": "lovely-youth",
   "metadata": {},
   "outputs": [
    {
     "data": {
      "text/plain": [
       "[36, 37, 38, 42, 64, 33]"
      ]
     },
     "execution_count": 2,
     "metadata": {},
     "output_type": "execute_result"
    }
   ],
   "source": [
    "symbols = '$%&*@!'\n",
    "codes = [ord(symbol) for symbol in symbols]\n",
    "codes"
   ]
  },
  {
   "cell_type": "markdown",
   "id": "accurate-joyce",
   "metadata": {},
   "source": [
    "Qualquer pessoa que conheça um pouco de Python poderá ler o primeiro exemplo. No entanto, após ter conhecido as listcomps, acho o segundo exemplo mais legível, pois seu propósito é explícito.\n",
    "\n",
    "\n",
    "Um laço _for_ pode ser usado para realizar várias tarefas diferentes: varrer uma sequência para contar ou selecionar itens, computar agregações (somas, médias) ou executar quaisquer outras tarefas de processamento. O código do primeiro exemplo cria uma lista. Em comparação, a sintaxe de listcomp foi concebida com um único proósiot: criar uma nova lista.\n"
   ]
  },
  {
   "cell_type": "markdown",
   "id": "periodic-container",
   "metadata": {},
   "source": [
    "### Comparação entre listcomps e map/filter"
   ]
  },
  {
   "cell_type": "markdown",
   "id": "compact-athens",
   "metadata": {},
   "source": [
    "As listcomps fazem tudo que as funções map e filter fazem, sem os contorcionismos exigidos pelo limitado lambda que temos em Python"
   ]
  },
  {
   "cell_type": "code",
   "execution_count": 5,
   "id": "environmental-trading",
   "metadata": {},
   "outputs": [
    {
     "data": {
      "text/plain": [
       "[994, 891, 916, 601]"
      ]
     },
     "execution_count": 5,
     "metadata": {},
     "output_type": "execute_result"
    }
   ],
   "source": [
    "symbols = '$%ϢͻΔə'\n",
    "beyond_ascii = [ord(s) for s in symbols if ord(s) > 127]\n",
    "beyond_ascii"
   ]
  },
  {
   "cell_type": "code",
   "execution_count": 6,
   "id": "endangered-insider",
   "metadata": {},
   "outputs": [
    {
     "data": {
      "text/plain": [
       "[994, 891, 916, 601]"
      ]
     },
     "execution_count": 6,
     "metadata": {},
     "output_type": "execute_result"
    }
   ],
   "source": [
    "beyond_ascii = list(filter(lambda c: c > 127, map(ord, symbols)))\n",
    "beyond_ascii"
   ]
  },
  {
   "cell_type": "markdown",
   "id": "electoral-romance",
   "metadata": {},
   "source": [
    "## Produtos cartesianos"
   ]
  },
  {
   "cell_type": "markdown",
   "id": "level-somewhere",
   "metadata": {},
   "source": [
    "* As listcompos podem gerar listas a partir do produto cartesiano de dois ou mais iteráveis.\n",
    "\n",
    "* Os itens que compõem o produto cartesiano são tuplas compostas de itens de todos os iteráveis de entrada.\n",
    "\n",
    "* A lista resultante tem um tamanho igual aos tamanhos dos iteráveis de entrada multiplicados."
   ]
  },
  {
   "cell_type": "markdown",
   "id": "altered-forty",
   "metadata": {},
   "source": [
    "Por exemplo, suponha que você deva gerar uma lista de camisetas disponíveis em duas cores e três tamanhos. "
   ]
  },
  {
   "cell_type": "code",
   "execution_count": 1,
   "id": "existing-decline",
   "metadata": {},
   "outputs": [
    {
     "data": {
      "text/plain": [
       "[('black', 'S'),\n",
       " ('black', 'M'),\n",
       " ('black', 'L'),\n",
       " ('white', 'S'),\n",
       " ('white', 'M'),\n",
       " ('white', 'L')]"
      ]
     },
     "execution_count": 1,
     "metadata": {},
     "output_type": "execute_result"
    }
   ],
   "source": [
    "colors = ['black', 'white']\n",
    "sizes = ['S', 'M', 'L']\n",
    "tshirts = [(color, size) for color in colors for size in sizes]\n",
    "tshirts"
   ]
  }
 ],
 "metadata": {
  "kernelspec": {
   "display_name": "Python 3",
   "language": "python",
   "name": "python3"
  },
  "language_info": {
   "codemirror_mode": {
    "name": "ipython",
    "version": 3
   },
   "file_extension": ".py",
   "mimetype": "text/x-python",
   "name": "python",
   "nbconvert_exporter": "python",
   "pygments_lexer": "ipython3",
   "version": "3.8.5"
  }
 },
 "nbformat": 4,
 "nbformat_minor": 5
}
