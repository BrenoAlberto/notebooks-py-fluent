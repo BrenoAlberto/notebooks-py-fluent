{
 "cells": [
  {
   "cell_type": "markdown",
   "id": "advised-quality",
   "metadata": {},
   "source": [
    "# Uma coleção de sequências\n",
    "## Visão geral das sequências embutidas"
   ]
  },
  {
   "cell_type": "markdown",
   "id": "sharing-environment",
   "metadata": {},
   "source": [
    "Sequências container\n",
    "<ul> list, tuple e collections.deque podem armazenar itens de tipos diferentes </ul>\n",
    "\n",
    "Sequências simples\n",
    "<ul> str, bytes, memoryview e array.array armazenam itens de um só tipo. </ul>"
   ]
  },
  {
   "cell_type": "markdown",
   "id": "divine-eclipse",
   "metadata": {},
   "source": [
    "## List comprehension e expressões geradoras"
   ]
  },
  {
   "cell_type": "markdown",
   "id": "tracked-script",
   "metadata": {},
   "source": [
    "Uma maneira rápida de criar uma sequência é usar uma **list comprehension (se o alvo for uma list)** ou uma **expressão geradora (para todos os demais tipos de sequência)**. Se você não estiver usando essas formas sintáticas em seu cotidiano, aposto que stará perdendo oportuniaddes de escrever um código que é, ao mesmo tempo, mais legível e, geralmente, mais rápido."
   ]
  },
  {
   "cell_type": "markdown",
   "id": "featured-pitch",
   "metadata": {},
   "source": [
    "### List comprehensions e legibilidade"
   ]
  },
  {
   "cell_type": "markdown",
   "id": "therapeutic-disorder",
   "metadata": {},
   "source": [
    "Eis um teste: qual exemplo você acha mais fácil de ler, o primeiro ou o segundo ?"
   ]
  },
  {
   "cell_type": "markdown",
   "id": "overhead-claim",
   "metadata": {},
   "source": [
    "Cria uma lista de códigos Unicode(codepoints) a partir de uma string"
   ]
  },
  {
   "cell_type": "code",
   "execution_count": 1,
   "id": "surprising-courage",
   "metadata": {},
   "outputs": [
    {
     "data": {
      "text/plain": [
       "[36, 37, 38, 42, 64, 33]"
      ]
     },
     "execution_count": 1,
     "metadata": {},
     "output_type": "execute_result"
    }
   ],
   "source": [
    "symbols = '$%&*@!'\n",
    "codes = []\n",
    "for symbol in symbols:\n",
    "    codes.append(ord(symbol))\n",
    "codes"
   ]
  },
  {
   "cell_type": "code",
   "execution_count": 2,
   "id": "lovely-youth",
   "metadata": {},
   "outputs": [
    {
     "data": {
      "text/plain": [
       "[36, 37, 38, 42, 64, 33]"
      ]
     },
     "execution_count": 2,
     "metadata": {},
     "output_type": "execute_result"
    }
   ],
   "source": [
    "symbols = '$%&*@!'\n",
    "codes = [ord(symbol) for symbol in symbols]\n",
    "codes"
   ]
  },
  {
   "cell_type": "markdown",
   "id": "accurate-joyce",
   "metadata": {},
   "source": [
    "Qualquer pessoa que conheça um pouco de Python poderá ler o primeiro exemplo. No entanto, após ter conhecido as listcomps, acho o segundo exemplo mais legível, pois seu propósito é explícito.\n",
    "\n",
    "\n",
    "Um laço _for_ pode ser usado para realizar várias tarefas diferentes: varrer uma sequência para contar ou selecionar itens, computar agregações (somas, médias) ou executar quaisquer outras tarefas de processamento. O código do primeiro exemplo cria uma lista. Em comparação, a sintaxe de listcomp foi concebida com um único proósiot: criar uma nova lista.\n"
   ]
  },
  {
   "cell_type": "markdown",
   "id": "periodic-container",
   "metadata": {},
   "source": [
    "### Comparação entre listcomps e map/filter"
   ]
  },
  {
   "cell_type": "markdown",
   "id": "compact-athens",
   "metadata": {},
   "source": [
    "As listcomps fazem tudo que as funções map e filter fazem, sem os contorcionismos exigidos pelo limitado lambda que temos em Python"
   ]
  },
  {
   "cell_type": "code",
   "execution_count": 5,
   "id": "environmental-trading",
   "metadata": {},
   "outputs": [
    {
     "data": {
      "text/plain": [
       "[994, 891, 916, 601]"
      ]
     },
     "execution_count": 5,
     "metadata": {},
     "output_type": "execute_result"
    }
   ],
   "source": [
    "symbols = '$%ϢͻΔə'\n",
    "beyond_ascii = [ord(s) for s in symbols if ord(s) > 127]\n",
    "beyond_ascii"
   ]
  },
  {
   "cell_type": "code",
   "execution_count": 6,
   "id": "endangered-insider",
   "metadata": {},
   "outputs": [
    {
     "data": {
      "text/plain": [
       "[994, 891, 916, 601]"
      ]
     },
     "execution_count": 6,
     "metadata": {},
     "output_type": "execute_result"
    }
   ],
   "source": [
    "beyond_ascii = list(filter(lambda c: c > 127, map(ord, symbols)))\n",
    "beyond_ascii"
   ]
  },
  {
   "cell_type": "markdown",
   "id": "noble-relative",
   "metadata": {},
   "source": [
    "## Produtos cartesianos"
   ]
  },
  {
   "cell_type": "markdown",
   "id": "chief-description",
   "metadata": {},
   "source": [
    "* As listcompos podem gerar listas a partir do produto cartesiano de dois ou mais iteráveis.\n",
    "\n",
    "* Os itens que compõem o produto cartesiano são tuplas compostas de itens de todos os iteráveis de entrada.\n",
    "\n",
    "* A lista resultante tem um tamanho igual aos tamanhos dos iteráveis de entrada multiplicados."
   ]
  },
  {
   "cell_type": "markdown",
   "id": "fuzzy-petite",
   "metadata": {},
   "source": [
    "Por exemplo, suponha que você deva gerar uma lista de camisetas disponíveis em duas cores e três tamanhos. "
   ]
  },
  {
   "cell_type": "code",
   "execution_count": 1,
   "id": "disciplinary-rebel",
   "metadata": {},
   "outputs": [
    {
     "data": {
      "text/plain": [
       "[('black', 'S'),\n",
       " ('black', 'M'),\n",
       " ('black', 'L'),\n",
       " ('white', 'S'),\n",
       " ('white', 'M'),\n",
       " ('white', 'L')]"
      ]
     },
     "execution_count": 1,
     "metadata": {},
     "output_type": "execute_result"
    }
   ],
   "source": [
    "colors = ['black', 'white']\n",
    "sizes = ['S', 'M', 'L']\n",
    "tshirts = [(color, size) for color in colors for size in sizes]\n",
    "tshirts"
   ]
  },
  {
   "cell_type": "markdown",
   "id": "unlikely-experiment",
   "metadata": {},
   "source": [
    "## Expressões geradoras"
   ]
  },
  {
   "cell_type": "markdown",
   "id": "brazilian-stand",
   "metadata": {},
   "source": [
    "Para inicializar tuplas, arrays e outros tipos de sequência, poderíamos começar também com uma listcomp, porém uma genexp economiza memória, pois ela gera itens um por um usando o protocolo de iteradores, em vez de criar uma lsita completa somenta para alimentar outro construtor."
   ]
  },
  {
   "cell_type": "code",
   "execution_count": 3,
   "id": "associate-composer",
   "metadata": {},
   "outputs": [
    {
     "data": {
      "text/plain": [
       "(36, 37, 994, 891, 916, 601)"
      ]
     },
     "execution_count": 3,
     "metadata": {},
     "output_type": "execute_result"
    }
   ],
   "source": [
    "symbols = '$%ϢͻΔə'\n",
    "tuple(ord(symbol) for symbol in symbols)"
   ]
  },
  {
   "cell_type": "code",
   "execution_count": 5,
   "id": "disciplinary-spirit",
   "metadata": {},
   "outputs": [
    {
     "data": {
      "text/plain": [
       "array('I', [36, 37, 994, 891, 916, 601])"
      ]
     },
     "execution_count": 5,
     "metadata": {},
     "output_type": "execute_result"
    }
   ],
   "source": [
    "import array\n",
    "array.array('I', (ord(symbol) for symbol in symbols))"
   ]
  },
  {
   "cell_type": "markdown",
   "id": "compact-musical",
   "metadata": {},
   "source": [
    "O proximo exemplo utiliza uma genexp com um produto cartesiano. \n",
    "\n",
    "Em comparação com o anterior (das roupas), neste caso, a lista de camisetas com seis itens não é criada na memória: a expressão geradora alimenta o laço for gerando um item de cada vez.\n",
    "\n",
    "Se as duas listas usadas no produto cartesiano tivessem mil itens cada, usar uma expressão geradora evitaria o custo de criar uma lista com um milhão de itens somenta para alimentar o laço for."
   ]
  },
  {
   "cell_type": "code",
   "execution_count": 6,
   "id": "lasting-monkey",
   "metadata": {},
   "outputs": [
    {
     "name": "stdout",
     "output_type": "stream",
     "text": [
      "black S\n",
      "black M\n",
      "black L\n",
      "white S\n",
      "white M\n",
      "white L\n"
     ]
    }
   ],
   "source": [
    "colors = ['black', 'white']\n",
    "sizes = ['S', 'M', 'L']\n",
    "for tshirt in ('%s %s' % (c, s) for c in colors for s in sizes):\n",
    "    print(tshirt)"
   ]
  },
  {
   "cell_type": "markdown",
   "id": "billion-protein",
   "metadata": {},
   "source": [
    "## Tuplas não são apenas listas imutáveis"
   ]
  },
  {
   "cell_type": "markdown",
   "id": "complicated-benefit",
   "metadata": {},
   "source": [
    "### Tuplas como registros"
   ]
  },
  {
   "cell_type": "markdown",
   "id": "equivalent-thing",
   "metadata": {},
   "source": [
    "* Se pensarmos em uma tupla somente como uma lista imutável, a quantidade e a ordem dos itens poderão o não ser importantes, dependendo do contexto.\n",
    "\n",
    "* Quando usamos uma tupla como uma coleção de campos, a quantidade de itens geralmente será fixa e sua ordem sempre será muito importante.\n",
    "\n",
    "O exemplo a seguir mostra tuplas sendo usadas como registros. Observe que, em todoas as expressões, reordenar a tupla destruiria as informações, pois o significado de cada item é dado pela sua posição na tupla."
   ]
  },
  {
   "cell_type": "code",
   "execution_count": 10,
   "id": "applicable-control",
   "metadata": {},
   "outputs": [
    {
     "name": "stdout",
     "output_type": "stream",
     "text": [
      "BRA/CE343567\n",
      "ESO/XDA20569\n",
      "USA/31195855\n",
      "USA\n",
      "BRA\n",
      "ESO\n"
     ]
    }
   ],
   "source": [
    "lax_coordinates = (33.9325, -188.408056)\n",
    "city, year, pop, chg, area = ('Tokyo', 2003, 32450, 0.66, 8014)\n",
    "traveler_ids = [('USA', '31195855'), ('BRA', 'CE343567'), ('ESO', 'XDA20569')]\n",
    "\n",
    "for passport in sorted(traveler_ids):\n",
    "    print('%s/%s' % passport)\n",
    "    \n",
    "for country, _ in traveler_ids:\n",
    "    print(country)"
   ]
  },
  {
   "cell_type": "markdown",
   "id": "residential-lesbian",
   "metadata": {},
   "source": [
    "### Desempacotamento de tuplas"
   ]
  },
  {
   "cell_type": "markdown",
   "id": "considerable-secretariat",
   "metadata": {},
   "source": [
    "Dois exemplos de desempacotamento de tuplas\n",
    "\n",
    "`city, year, pop, chg, area = ('Tokyo', 2003, 32450, 0.66, 8014)`\n",
    "\n",
    "`'%s/%s' % passport`\n",
    "\n",
    "A forma mais visível de desempacotamento de tuplas é a atribuição paralela, atribuição de utens de um iterável a uma tupla de variáveis."
   ]
  },
  {
   "cell_type": "code",
   "execution_count": 12,
   "id": "secret-classification",
   "metadata": {},
   "outputs": [
    {
     "name": "stdout",
     "output_type": "stream",
     "text": [
      "33.9325\n",
      "-188.408056\n"
     ]
    }
   ],
   "source": [
    "lax_coordinates = (33.9325, -188.408056)\n",
    "latitude, longitude = lax_coordinates\n",
    "print(latitude)\n",
    "print(longitude)"
   ]
  },
  {
   "cell_type": "markdown",
   "id": "classical-april",
   "metadata": {},
   "source": [
    "***Uma aplicação elegante do desempacotamento de tuplas consiste em trocar(swap) os valores de duas variáveis sem usar uma variável temporária:***"
   ]
  },
  {
   "cell_type": "code",
   "execution_count": 14,
   "id": "hundred-prediction",
   "metadata": {},
   "outputs": [
    {
     "data": {
      "text/plain": [
       "(10, 5)"
      ]
     },
     "execution_count": 14,
     "metadata": {},
     "output_type": "execute_result"
    }
   ],
   "source": [
    "a = 5\n",
    "b = 10\n",
    "\n",
    "b, a = a, b\n",
    "\n",
    "a, b"
   ]
  },
  {
   "cell_type": "markdown",
   "id": "competitive-falls",
   "metadata": {},
   "source": [
    "Outro exemplo de desempacotamento de tuplas consiste em prefixar um argumento com um asterisco ao chamar uma função:"
   ]
  },
  {
   "cell_type": "code",
   "execution_count": 15,
   "id": "recovered-valuable",
   "metadata": {},
   "outputs": [
    {
     "data": {
      "text/plain": [
       "(2, 4)"
      ]
     },
     "execution_count": 15,
     "metadata": {},
     "output_type": "execute_result"
    }
   ],
   "source": [
    "divmod(20, 8)"
   ]
  },
  {
   "cell_type": "code",
   "execution_count": 16,
   "id": "informational-match",
   "metadata": {},
   "outputs": [
    {
     "data": {
      "text/plain": [
       "(2, 4)"
      ]
     },
     "execution_count": 16,
     "metadata": {},
     "output_type": "execute_result"
    }
   ],
   "source": [
    "t = (20, 8)\n",
    "divmod(*t)"
   ]
  },
  {
   "cell_type": "code",
   "execution_count": 17,
   "id": "religious-commonwealth",
   "metadata": {},
   "outputs": [
    {
     "data": {
      "text/plain": [
       "(2, 4)"
      ]
     },
     "execution_count": 17,
     "metadata": {},
     "output_type": "execute_result"
    }
   ],
   "source": [
    "quotient, remainder = divmod(*t)\n",
    "quotient, remainder"
   ]
  }
 ],
 "metadata": {
  "kernelspec": {
   "display_name": "Python 3",
   "language": "python",
   "name": "python3"
  },
  "language_info": {
   "codemirror_mode": {
    "name": "ipython",
    "version": 3
   },
   "file_extension": ".py",
   "mimetype": "text/x-python",
   "name": "python",
   "nbconvert_exporter": "python",
   "pygments_lexer": "ipython3",
   "version": "3.8.5"
  }
 },
 "nbformat": 4,
 "nbformat_minor": 5
}
