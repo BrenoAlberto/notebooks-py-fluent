{
 "cells": [
  {
   "cell_type": "markdown",
   "id": "alert-marina",
   "metadata": {},
   "source": [
    "# Uma coleção de sequências\n",
    "## Visão geral das sequências embutidas"
   ]
  },
  {
   "cell_type": "markdown",
   "id": "persistent-taiwan",
   "metadata": {},
   "source": [
    "Sequências container\n",
    "<ul> list, tuple e collections.deque podem armazenar itens de tipos diferentes </ul>\n",
    "\n",
    "Sequências simples\n",
    "<ul> str, bytes, memoryview e array.array armazenam itens de um só tipo. </ul>"
   ]
  },
  {
   "cell_type": "markdown",
   "id": "marked-penny",
   "metadata": {},
   "source": [
    "## List comprehension e expressões geradoras"
   ]
  },
  {
   "cell_type": "markdown",
   "id": "divided-complaint",
   "metadata": {},
   "source": [
    "Uma maneira rápida de criar uma sequência é usar uma **list comprehension (se o alvo for uma list)** ou uma **expressão geradora (para todos os demais tipos de sequência)**. Se você não estiver usando essas formas sintáticas em seu cotidiano, aposto que stará perdendo oportuniaddes de escrever um código que é, ao mesmo tempo, mais legível e, geralmente, mais rápido."
   ]
  },
  {
   "cell_type": "markdown",
   "id": "alpine-reservation",
   "metadata": {},
   "source": [
    "### List comprehensions e legibilidade"
   ]
  },
  {
   "cell_type": "markdown",
   "id": "greenhouse-while",
   "metadata": {},
   "source": [
    "Eis um teste: qual exemplo você acha mais fácil de ler, o primeiro ou o segundo ?"
   ]
  },
  {
   "cell_type": "markdown",
   "id": "earned-horizontal",
   "metadata": {},
   "source": [
    "Cria uma lista de códigos Unicode(codepoints) a partir de uma string"
   ]
  },
  {
   "cell_type": "code",
   "execution_count": 1,
   "id": "actual-mortgage",
   "metadata": {},
   "outputs": [
    {
     "data": {
      "text/plain": [
       "[36, 37, 38, 42, 64, 33]"
      ]
     },
     "execution_count": 1,
     "metadata": {},
     "output_type": "execute_result"
    }
   ],
   "source": [
    "symbols = '$%&*@!'\n",
    "codes = []\n",
    "for symbol in symbols:\n",
    "    codes.append(ord(symbol))\n",
    "codes"
   ]
  },
  {
   "cell_type": "code",
   "execution_count": 2,
   "id": "political-reconstruction",
   "metadata": {},
   "outputs": [
    {
     "data": {
      "text/plain": [
       "[36, 37, 38, 42, 64, 33]"
      ]
     },
     "execution_count": 2,
     "metadata": {},
     "output_type": "execute_result"
    }
   ],
   "source": [
    "symbols = '$%&*@!'\n",
    "codes = [ord(symbol) for symbol in symbols]\n",
    "codes"
   ]
  },
  {
   "cell_type": "markdown",
   "id": "champion-kazakhstan",
   "metadata": {},
   "source": [
    "Qualquer pessoa que conheça um pouco de Python poderá ler o primeiro exemplo. No entanto, após ter conhecido as listcomps, acho o segundo exemplo mais legível, pois seu propósito é explícito.\n",
    "\n",
    "\n",
    "Um laço _for_ pode ser usado para realizar várias tarefas diferentes: varrer uma sequência para contar ou selecionar itens, computar agregações (somas, médias) ou executar quaisquer outras tarefas de processamento. O código do primeiro exemplo cria uma lista. Em comparação, a sintaxe de listcomp foi concebida com um único proósiot: criar uma nova lista.\n"
   ]
  },
  {
   "cell_type": "markdown",
   "id": "rocky-dodge",
   "metadata": {},
   "source": [
    "### Comparação entre listcomps e map/filter"
   ]
  },
  {
   "cell_type": "code",
   "execution_count": null,
   "id": "committed-grant",
   "metadata": {},
   "outputs": [],
   "source": []
  },
  {
   "cell_type": "markdown",
   "id": "immediate-supply",
   "metadata": {},
   "source": []
  }
 ],
 "metadata": {
  "kernelspec": {
   "display_name": "Python 3",
   "language": "python",
   "name": "python3"
  },
  "language_info": {
   "codemirror_mode": {
    "name": "ipython",
    "version": 3
   },
   "file_extension": ".py",
   "mimetype": "text/x-python",
   "name": "python",
   "nbconvert_exporter": "python",
   "pygments_lexer": "ipython3",
   "version": "3.8.5"
  }
 },
 "nbformat": 4,
 "nbformat_minor": 5
}
